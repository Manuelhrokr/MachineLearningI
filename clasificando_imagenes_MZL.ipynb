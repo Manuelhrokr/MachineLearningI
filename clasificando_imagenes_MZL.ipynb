{
  "nbformat": 4,
  "nbformat_minor": 0,
  "metadata": {
    "colab": {
      "name": "clasificando-imagenes_MZL.ipynb",
      "version": "0.3.2",
      "provenance": [],
      "collapsed_sections": [],
      "include_colab_link": true
    },
    "language_info": {
      "codemirror_mode": {
        "name": "ipython",
        "version": 3
      },
      "file_extension": ".py",
      "mimetype": "text/x-python",
      "name": "python",
      "nbconvert_exporter": "python",
      "pygments_lexer": "ipython3",
      "version": "3.6.7"
    },
    "kernelspec": {
      "name": "python3",
      "display_name": "Python 3"
    },
    "accelerator": "GPU"
  },
  "cells": [
    {
      "cell_type": "markdown",
      "metadata": {
        "id": "view-in-github",
        "colab_type": "text"
      },
      "source": [
        "<a href=\"https://colab.research.google.com/github/Manuelhrokr/MachineLearningI/blob/master/clasificando_imagenes_MZL.ipynb\" target=\"_parent\"><img src=\"https://colab.research.google.com/assets/colab-badge.svg\" alt=\"Open In Colab\"/></a>"
      ]
    },
    {
      "metadata": {
        "id": "lnLEJGIcdxS_",
        "colab_type": "text"
      },
      "cell_type": "markdown",
      "source": [
        "## Machine Learning I\n",
        "### Homework IV: Convolutional Neural Networks (ConvNets)\n",
        "### Professors: Lara Lloret Iglesias\n",
        "### Student: Manuel Zamudio López"
      ]
    },
    {
      "metadata": {
        "id": "sbJMkHfUDPb7",
        "colab_type": "code",
        "colab": {},
        "outputId": "3d0d7d0e-18bf-4415-a348-7bd9fc9b937f"
      },
      "cell_type": "code",
      "source": [
        "import keras\n",
        "keras.__version__"
      ],
      "execution_count": 0,
      "outputs": [
        {
          "output_type": "stream",
          "text": [
            "Using TensorFlow backend.\n"
          ],
          "name": "stderr"
        },
        {
          "output_type": "execute_result",
          "data": {
            "text/plain": [
              "'2.2.4'"
            ]
          },
          "metadata": {
            "tags": []
          },
          "execution_count": 6
        }
      ]
    },
    {
      "metadata": {
        "id": "dOXOgboxDPc4",
        "colab_type": "text"
      },
      "cell_type": "markdown",
      "source": [
        "# Utilizando convnets con datasets pequeños\n",
        "\n",
        "Lo primero que tienes que hacer es descargarte el dataset de https://lara.web.cern.ch/lara/train.zip en la terminal de Jupyter y descomprimirlo en la misma carpeta donde se encuentra esta libreta. \n",
        "\n",
        "Para descargar otro conjunto de datos desde imagenet se puede descargar la lista con las URL a las imágenes y usar `wget -i`\n",
        "\n",
        "\n",
        "\n",
        "## Entrenando desde 0 una convNet\n",
        "\n",
        "Entrenar un modelo de clasificación de imágenes con muy pocos datos es una situación común en la que te encontrarás si acabas dedicándote a hacer Computer Vision en un contexto profesional. \n",
        "\n",
        "Tener \"pocas\" muestras puede significar cualquier cosa entre unos pocos cientos y unas pocas decenas de miles de imágenes. Vamos a ilustrar aqui un ejemplo práctico: vamos a centrarnos en clasificar imágenes como \"perros\" y \"gatos\".\n"
      ]
    },
    {
      "metadata": {
        "id": "Tbo-HOJGDPc9",
        "colab_type": "text"
      },
      "cell_type": "markdown",
      "source": [
        "## La relevancia del Deep Learning en problemas con pocos datos\n",
        "\n",
        "Quizás habrás oido muchas veces que el Deep Learning solo funciona cuando se tienen grandes cantidades de datos. Esto en parte es verdad: una de las características del Deep learning es que puede encontrar características interesantes a partir del dataset de entrenamiento por si mismo, y esto a priori es más sencillo cuando se tienen muchos ejemplos disponibles, especialmente en el caso de tener datasets de input con una alta dimensionalidad, como es el caso de las imágenes.\n",
        "\n",
        "Sin embargo, lo que constituye un dataset \"grande\" es relativo. Concretamente relativo al tamaño y la profundidad de la red que estamos intentando entrenar. No es posible enrenar una convnet para que resulta un problema completo con solo unas decenas de ejemplos, pero unos pocos cientos puede ser suficiente si el modelo está bien montado (entenderemos que significa bien \"montado\" a lo largo del curso de Deep Learning).\n",
        "\n",
        "Como las convnets aprenden características locales, invariantes bajo translaciones, son muy eficientes en cuanto al número de imágenes necesarias para llevar a cabo problemas perceptuales. Así que entrenar una convnet desde 0 con un dataset no muy grande aún nos puede llevar a resultados razonables como veremos aqui.\n",
        "\n",
        "Pero hay más aún: los modelos de Deep Learning son altamente \"reciclables\". Uno puede coger, por ejemplo, un problema de clasificación de imagen y un convertidor de voz a texto entrenado sobre un dataset muy grande y luego reutilizarlo para resolver otro problema completamente distinto solo añadiéndole pequeñas modificaciones. Más especificamente, en el caso de Computer Vision, muchos modelos pre-entrenados (normalmente entrenados en el dataset ImageNet) son hechos publicos para que uno pueda descargarlos y utilizarlos para crear potentes modelos de Computer Vision con muy pocos datos. \n",
        "\n",
        "Pero aqui nos vamos a limitar a correr un ejemplo sencillito. \n"
      ]
    },
    {
      "metadata": {
        "id": "qRocH0-vDPdL",
        "colab_type": "text"
      },
      "cell_type": "markdown",
      "source": [
        "## Los datos\n",
        "\n",
        "El dataset de gatos vs perros que utilizamos no es un paquete de Keras. Se publicó en Kaggle.com como parte de un problema de Computer Vision a finales de 2013, cuando todavía las ConvNets no eran tan populares. \n",
        "\n",
        "Las imágenes son JPGEs de resolución media. Tiene este aspecto:\n",
        "\n",
        "![cats_vs_dogs_samples](https://s3.amazonaws.com/book.keras.io/img/ch5/cats_vs_dogs_samples.jpg)"
      ]
    },
    {
      "metadata": {
        "id": "U67ykqxtDPdU",
        "colab_type": "text"
      },
      "cell_type": "markdown",
      "source": [
        "No es ninguna sorpresa que la competición de gatos vs perros de Kaggle en 2013 fuera ganada por ConvNets. Los mejores pudieron alcanzar una precisión de hasta 95%. En nuestro ejemplo vamos a quedarnos todavía lejos de esta precisión, pero durante el curso de Deep Learning hemos aprendido como acercarnos a este valor utilizando diversos métodos para mejorar el rendimiento de las redes neuronales. Hay que tener en cuenta que en este ejemplo estamos entrenando aproximadamente sobre solo el 10% de los datos que se utilizaron para el concurso. \n",
        "Después de descargar el dataset y descomprimirlo, vamos a crear un nuevo dataset que contiene tres subsets: un set de training que contiene 1000 imágenes de cada clase, un set de validación con 500 imágenes de cada clase, y finalmente un set de test con 500 imágenes de cada clase.\n",
        "\n",
        "Aqui tenemos unas cuantas líneas de código que nos hacen este reparto automáticamente:\n",
        "\n"
      ]
    },
    {
      "metadata": {
        "id": "_pvQgs3zaAWd",
        "colab_type": "text"
      },
      "cell_type": "markdown",
      "source": [
        "## La parte complicada: Cargar el Dataset en Colaboratory. Afortunadamente, el manejo para saber dónde se iban guardando las carpetas descargadas, es similar al de la Terminal en Linux.  "
      ]
    },
    {
      "metadata": {
        "id": "24cmw1xMX9s1",
        "colab_type": "code",
        "colab": {
          "base_uri": "https://localhost:8080/",
          "height": 34
        },
        "outputId": "0cb333f0-cab9-474e-b08e-c521618f25d9"
      },
      "cell_type": "code",
      "source": [
        "cd /tmp"
      ],
      "execution_count": 8,
      "outputs": [
        {
          "output_type": "stream",
          "text": [
            "/tmp\n"
          ],
          "name": "stdout"
        }
      ]
    },
    {
      "metadata": {
        "id": "BDdq5058R7Lc",
        "colab_type": "code",
        "colab": {}
      },
      "cell_type": "code",
      "source": [
        "ls"
      ],
      "execution_count": 0,
      "outputs": []
    },
    {
      "metadata": {
        "id": "qxeTqUMYfsBm",
        "colab_type": "code",
        "colab": {}
      },
      "cell_type": "code",
      "source": [
        "rm -r train.zip"
      ],
      "execution_count": 0,
      "outputs": []
    },
    {
      "metadata": {
        "id": "jixUiX6-YG6T",
        "colab_type": "code",
        "colab": {}
      },
      "cell_type": "code",
      "source": [
        "ls"
      ],
      "execution_count": 0,
      "outputs": []
    },
    {
      "metadata": {
        "id": "Jls93YB4R8p1",
        "colab_type": "code",
        "colab": {}
      },
      "cell_type": "code",
      "source": [
        "rm train.zip"
      ],
      "execution_count": 0,
      "outputs": []
    },
    {
      "metadata": {
        "id": "DVW6E_cmb5kv",
        "colab_type": "code",
        "colab": {}
      },
      "cell_type": "code",
      "source": [
        "rm -r test train validation"
      ],
      "execution_count": 0,
      "outputs": []
    },
    {
      "metadata": {
        "id": "SRhHynMxdaOt",
        "colab_type": "code",
        "colab": {
          "base_uri": "https://localhost:8080/",
          "height": 34
        },
        "outputId": "0a7bdac8-a0be-40ca-8442-8ec1b41ccb67"
      },
      "cell_type": "code",
      "source": [
        "cd /tmp"
      ],
      "execution_count": 37,
      "outputs": [
        {
          "output_type": "stream",
          "text": [
            "/tmp\n"
          ],
          "name": "stdout"
        }
      ]
    },
    {
      "metadata": {
        "id": "hfIXbDM6ENNF",
        "colab_type": "code",
        "colab": {
          "base_uri": "https://localhost:8080/",
          "height": 208
        },
        "outputId": "c4b1e6c7-0345-4bf9-819f-8543ec51a84e"
      },
      "cell_type": "code",
      "source": [
        "!wget \"https://lara.web.cern.ch/lara/train.zip\""
      ],
      "execution_count": 14,
      "outputs": [
        {
          "output_type": "stream",
          "text": [
            "--2019-04-19 16:45:57--  https://lara.web.cern.ch/lara/train.zip\n",
            "Resolving lara.web.cern.ch (lara.web.cern.ch)... 188.184.64.89, 2001:1458:201:a4::100:53\n",
            "Connecting to lara.web.cern.ch (lara.web.cern.ch)|188.184.64.89|:443... connected.\n",
            "HTTP request sent, awaiting response... 200 OK\n",
            "Length: 569546721 (543M) [application/zip]\n",
            "Saving to: ‘train.zip’\n",
            "\n",
            "train.zip           100%[===================>] 543.16M  21.6MB/s    in 25s     \n",
            "\n",
            "2019-04-19 16:46:23 (21.4 MB/s) - ‘train.zip’ saved [569546721/569546721]\n",
            "\n"
          ],
          "name": "stdout"
        }
      ]
    },
    {
      "metadata": {
        "id": "R2T989OQdggw",
        "colab_type": "code",
        "colab": {
          "base_uri": "https://localhost:8080/",
          "height": 34
        },
        "outputId": "7415416d-556e-4440-9dbe-7b5e10a90c4c"
      },
      "cell_type": "code",
      "source": [
        "ls"
      ],
      "execution_count": 15,
      "outputs": [
        {
          "output_type": "stream",
          "text": [
            "train.zip\n"
          ],
          "name": "stdout"
        }
      ]
    },
    {
      "metadata": {
        "id": "R2sdaaNQTByZ",
        "colab_type": "code",
        "colab": {}
      },
      "cell_type": "code",
      "source": [
        "!unzip train.zip"
      ],
      "execution_count": 0,
      "outputs": []
    },
    {
      "metadata": {
        "id": "OlmU-1lfdtVB",
        "colab_type": "code",
        "colab": {
          "base_uri": "https://localhost:8080/",
          "height": 34
        },
        "outputId": "fa37cf5f-fad8-4297-a7cd-f9196378c0c5"
      },
      "cell_type": "code",
      "source": [
        "ls"
      ],
      "execution_count": 17,
      "outputs": [
        {
          "output_type": "stream",
          "text": [
            "\u001b[0m\u001b[01;34mtrain\u001b[0m/  train.zip\n"
          ],
          "name": "stdout"
        }
      ]
    },
    {
      "metadata": {
        "id": "W4kqjtPJckJi",
        "colab_type": "code",
        "colab": {
          "base_uri": "https://localhost:8080/",
          "height": 34
        },
        "outputId": "18b96a66-7f07-4018-df58-c236d0b6182b"
      },
      "cell_type": "code",
      "source": [
        "cd train"
      ],
      "execution_count": 18,
      "outputs": [
        {
          "output_type": "stream",
          "text": [
            "/tmp/train\n"
          ],
          "name": "stdout"
        }
      ]
    },
    {
      "metadata": {
        "id": "JsghdfNLangM",
        "colab_type": "code",
        "colab": {}
      },
      "cell_type": "code",
      "source": [
        "ls"
      ],
      "execution_count": 0,
      "outputs": []
    },
    {
      "metadata": {
        "id": "warNZBLeDPdd",
        "colab_type": "code",
        "colab": {}
      },
      "cell_type": "code",
      "source": [
        "import os, shutil"
      ],
      "execution_count": 0,
      "outputs": []
    },
    {
      "metadata": {
        "id": "uFE6ACW7eAhs",
        "colab_type": "code",
        "colab": {
          "base_uri": "https://localhost:8080/",
          "height": 34
        },
        "outputId": "c8d25d01-47d2-4add-8e56-dcda0d81f988"
      },
      "cell_type": "code",
      "source": [
        "pwd"
      ],
      "execution_count": 21,
      "outputs": [
        {
          "output_type": "execute_result",
          "data": {
            "text/plain": [
              "'/tmp/train'"
            ]
          },
          "metadata": {
            "tags": []
          },
          "execution_count": 21
        }
      ]
    },
    {
      "metadata": {
        "id": "BymZ4jgSFZpO",
        "colab_type": "code",
        "colab": {}
      },
      "cell_type": "code",
      "source": [
        "original_dataset_dir = '/tmp/train'\n",
        "base_dir = '/tmp/catdog'\n",
        "os.mkdir(base_dir)"
      ],
      "execution_count": 0,
      "outputs": []
    },
    {
      "metadata": {
        "id": "0kFU2weAHZHq",
        "colab_type": "code",
        "colab": {}
      },
      "cell_type": "code",
      "source": [
        "# Directories for our training, validation and test splits\n",
        "train_dir = os.path.join(base_dir, 'train')\n",
        "os.mkdir(train_dir)\n",
        "validation_dir = os.path.join(base_dir, 'validation')\n",
        "os.mkdir(validation_dir)\n",
        "test_dir = os.path.join(base_dir, 'test')\n",
        "os.mkdir(test_dir)"
      ],
      "execution_count": 0,
      "outputs": []
    },
    {
      "metadata": {
        "id": "173VoNGSFxli",
        "colab_type": "code",
        "colab": {}
      },
      "cell_type": "code",
      "source": [
        "# Directory with our training cat pictures\n",
        "train_cats_dir = os.path.join(train_dir, 'cats')\n",
        "os.mkdir(train_cats_dir)\n",
        "\n",
        "# Directory with our training dog pictures\n",
        "train_dogs_dir = os.path.join(train_dir, 'dogs')\n",
        "os.mkdir(train_dogs_dir)\n",
        "\n",
        "# Directory with our validation cat pictures\n",
        "validation_cats_dir = os.path.join(validation_dir, 'cats')\n",
        "os.mkdir(validation_cats_dir)\n",
        "\n",
        "# Directory with our validation dog pictures\n",
        "validation_dogs_dir = os.path.join(validation_dir, 'dogs')\n",
        "os.mkdir(validation_dogs_dir)\n",
        "\n",
        "# Directory with our test cat pictures\n",
        "test_cats_dir = os.path.join(test_dir, 'cats')\n",
        "os.mkdir(test_cats_dir)\n",
        "\n",
        "# Directory with our test dog pictures\n",
        "test_dogs_dir = os.path.join(test_dir, 'dogs')\n",
        "os.mkdir(test_dogs_dir)"
      ],
      "execution_count": 0,
      "outputs": []
    },
    {
      "metadata": {
        "id": "7ROh0bpIeZ0n",
        "colab_type": "code",
        "colab": {
          "base_uri": "https://localhost:8080/",
          "height": 34
        },
        "outputId": "264c21ee-bb6d-4b1d-ab0d-194859594810"
      },
      "cell_type": "code",
      "source": [
        "cd /tmp/catdog"
      ],
      "execution_count": 25,
      "outputs": [
        {
          "output_type": "stream",
          "text": [
            "/tmp/catdog\n"
          ],
          "name": "stdout"
        }
      ]
    },
    {
      "metadata": {
        "id": "tlSo5AKUeXiF",
        "colab_type": "code",
        "colab": {
          "base_uri": "https://localhost:8080/",
          "height": 34
        },
        "outputId": "6b61d637-3e9b-426f-b3b2-f37d349e2fb7"
      },
      "cell_type": "code",
      "source": [
        "pwd"
      ],
      "execution_count": 26,
      "outputs": [
        {
          "output_type": "execute_result",
          "data": {
            "text/plain": [
              "'/tmp/catdog'"
            ]
          },
          "metadata": {
            "tags": []
          },
          "execution_count": 26
        }
      ]
    },
    {
      "metadata": {
        "id": "PH1jrYj1KGC2",
        "colab_type": "code",
        "colab": {}
      },
      "cell_type": "code",
      "source": [
        "# Copy first 1000 cat images to train_cats_dir\n",
        "fnames = ['cat.{}.jpg'.format(i) for i in range(1000)]\n",
        "for fname in fnames:\n",
        "    src = os.path.join(original_dataset_dir, fname)\n",
        "    dst = os.path.join(train_cats_dir, fname)\n",
        "    shutil.copyfile(src, dst)\n",
        "\n",
        "# Copy next 500 cat images to validation_cats_dir\n",
        "fnames = ['cat.{}.jpg'.format(i) for i in range(1000, 1500)]\n",
        "for fname in fnames:\n",
        "    src = os.path.join(original_dataset_dir, fname)\n",
        "    dst = os.path.join(validation_cats_dir, fname)\n",
        "    shutil.copyfile(src, dst)\n",
        "    \n",
        "# Copy next 500 cat images to test_cats_dir\n",
        "fnames = ['cat.{}.jpg'.format(i) for i in range(1500, 2000)]\n",
        "for fname in fnames:\n",
        "    src = os.path.join(original_dataset_dir, fname)\n",
        "    dst = os.path.join(test_cats_dir, fname)\n",
        "    shutil.copyfile(src, dst)\n",
        "    \n",
        "# Copy first 1000 dog images to train_dogs_dir\n",
        "fnames = ['dog.{}.jpg'.format(i) for i in range(1000)]\n",
        "for fname in fnames:\n",
        "    src = os.path.join(original_dataset_dir, fname)\n",
        "    dst = os.path.join(train_dogs_dir, fname)\n",
        "    shutil.copyfile(src, dst)\n",
        "    \n",
        "# Copy next 500 dog images to validation_dogs_dir\n",
        "fnames = ['dog.{}.jpg'.format(i) for i in range(1000, 1500)]\n",
        "for fname in fnames:\n",
        "    src = os.path.join(original_dataset_dir, fname)\n",
        "    dst = os.path.join(validation_dogs_dir, fname)\n",
        "    shutil.copyfile(src, dst)\n",
        "    \n",
        "# Copy next 500 dog images to test_dogs_dir\n",
        "fnames = ['dog.{}.jpg'.format(i) for i in range(1500, 2000)]\n",
        "for fname in fnames:\n",
        "    src = os.path.join(original_dataset_dir, fname)\n",
        "    dst = os.path.join(test_dogs_dir, fname)\n",
        "    shutil.copyfile(src, dst)"
      ],
      "execution_count": 0,
      "outputs": []
    },
    {
      "metadata": {
        "id": "wDcKAxUKDPeA",
        "colab_type": "text"
      },
      "cell_type": "markdown",
      "source": [
        "As a sanity check, let's count how many pictures we have in each training split (train/validation/test):"
      ]
    },
    {
      "metadata": {
        "id": "yD1dNs24DPeF",
        "colab_type": "code",
        "colab": {
          "base_uri": "https://localhost:8080/",
          "height": 34
        },
        "outputId": "b6058685-96a8-4693-eac7-316d8adf3dd5"
      },
      "cell_type": "code",
      "source": [
        "print('total training cat images:', len(os.listdir(train_cats_dir)))"
      ],
      "execution_count": 28,
      "outputs": [
        {
          "output_type": "stream",
          "text": [
            "total training cat images: 1000\n"
          ],
          "name": "stdout"
        }
      ]
    },
    {
      "metadata": {
        "id": "p1BjkiHTDPeY",
        "colab_type": "code",
        "colab": {
          "base_uri": "https://localhost:8080/",
          "height": 34
        },
        "outputId": "3078bf27-0e39-4e0f-b4c1-ba4ae0db69c1"
      },
      "cell_type": "code",
      "source": [
        "print('total training dog images:', len(os.listdir(train_dogs_dir)))"
      ],
      "execution_count": 29,
      "outputs": [
        {
          "output_type": "stream",
          "text": [
            "total training dog images: 1000\n"
          ],
          "name": "stdout"
        }
      ]
    },
    {
      "metadata": {
        "id": "ea4uDiKSDPey",
        "colab_type": "code",
        "colab": {
          "base_uri": "https://localhost:8080/",
          "height": 34
        },
        "outputId": "96c8da4e-1b20-4a0e-e4bf-bfb81d96819f"
      },
      "cell_type": "code",
      "source": [
        "print('total validation cat images:', len(os.listdir(validation_cats_dir)))"
      ],
      "execution_count": 30,
      "outputs": [
        {
          "output_type": "stream",
          "text": [
            "total validation cat images: 500\n"
          ],
          "name": "stdout"
        }
      ]
    },
    {
      "metadata": {
        "id": "Y9Y33uBgDPfT",
        "colab_type": "code",
        "colab": {
          "base_uri": "https://localhost:8080/",
          "height": 34
        },
        "outputId": "800ccc80-19ce-4459-bdca-a9d2b09288a0"
      },
      "cell_type": "code",
      "source": [
        "print('total validation dog images:', len(os.listdir(validation_dogs_dir)))"
      ],
      "execution_count": 31,
      "outputs": [
        {
          "output_type": "stream",
          "text": [
            "total validation dog images: 500\n"
          ],
          "name": "stdout"
        }
      ]
    },
    {
      "metadata": {
        "id": "pgQkGxHFDPf5",
        "colab_type": "code",
        "colab": {
          "base_uri": "https://localhost:8080/",
          "height": 34
        },
        "outputId": "cd1d0ab5-3c57-432b-aa4e-376dd3e47478"
      },
      "cell_type": "code",
      "source": [
        "print('total test cat images:', len(os.listdir(test_cats_dir)))"
      ],
      "execution_count": 32,
      "outputs": [
        {
          "output_type": "stream",
          "text": [
            "total test cat images: 500\n"
          ],
          "name": "stdout"
        }
      ]
    },
    {
      "metadata": {
        "id": "1_mfLzt4DPgR",
        "colab_type": "code",
        "colab": {
          "base_uri": "https://localhost:8080/",
          "height": 34
        },
        "outputId": "1bdc3cd2-2cda-4933-ce82-835717795f0f"
      },
      "cell_type": "code",
      "source": [
        "print('total test dog images:', len(os.listdir(test_dogs_dir)))"
      ],
      "execution_count": 33,
      "outputs": [
        {
          "output_type": "stream",
          "text": [
            "total test dog images: 500\n"
          ],
          "name": "stdout"
        }
      ]
    },
    {
      "metadata": {
        "id": "kX4egdtkDPgh",
        "colab_type": "text"
      },
      "cell_type": "markdown",
      "source": [
        "\n",
        "Así que efectivamente tenemos 2000 imágenes de entrenamiento, 1000 imágenes de validación y 1000 imágenes de test. En cada uno de estos subsets hay el mismo número de ejemplos de cada clase: esto es lo que se llama un sistema de clasificación binario balanceado, lo cual significa que nuestra precisión de clasificación será una métrica adecuada del éxito de nuestra solución."
      ]
    },
    {
      "metadata": {
        "id": "wMCzf6QjDPgk",
        "colab_type": "text"
      },
      "cell_type": "markdown",
      "source": [
        "## Construyendo nuestra red\n",
        "\n",
        "En el anterior ejemplo hemos construido una pequeña convnet para resolver el problema de clasificar números escritos a mano usando el dataset MNIST, así que ya estamos familiarizados con la terminología que utiliza keras. Vamos a reutilizar la estructura general que teniamos en el ejemplo anterior: nuestra convnet tendra una pila de capas alternadas de `Conv2D` (con activación `relu` ) y capas  `MaxPooling2D`.\n",
        "\n",
        "Sin embargo, como estamos tratando con imágenes mayores y un problema más complejo, vamos a crear nuestra red en consecuencia: tendrá una capa más de `Conv2D` + `MaxPooling2D`. Esto sirve para aumentar la capacidad de la red y para reducir aún más el tamaño de los mapas de características, para que no sean tan enormes cuando lleguen al paso de aplanado. Empezamos usando imágenes de input de 150x150 (una elección arbitraria), y acabaremos con mapas de características que tienen un tamaño de 7x7 antes de la capa de aplanamiento.\n",
        "\n",
        "Es importante tener en cuenta que la profundidad de los mapas de características va creciendo progresivamente según se avanza en la red neuronales ( de 32 a 128) mientras que el tamaño de los mapas de características va disminuyendo (de 148x148 a 7x7). Este patrón lo verás en casi todas las convnets.\n",
        "\n",
        "Como estamos atacando un problema de clasificación binaria (perro o gato), vamos a acabar la red con una única unidad (una capa densa de tamaño 1) y con una activación sigmoide. Esta unidad codificará la probabilidad de que nuestra red esté mirando a una clase o a otra.\n",
        "\n",
        "El aspecto final del modelo debe de ser el siguiente:\n",
        "\n",
        "![modelo_red_animales.png](https://github.com/laramaktub/MachineLearningI/blob/master/modelo_red_animales.png?raw=true)"
      ]
    },
    {
      "metadata": {
        "id": "WGfJn1dHDPgo",
        "colab_type": "code",
        "colab": {}
      },
      "cell_type": "code",
      "source": [
        "from keras import layers\n",
        "from keras import models\n",
        "\n",
        "model = models.Sequential()\n",
        "model.add(layers.Conv2D(32, kernel_size=(3, 3),\n",
        "                 activation='relu',\n",
        "                 input_shape=(150, 150, 3)))\n",
        "model.add(layers.MaxPooling2D(pool_size=(2, 2)))\n",
        "model.add(layers.Conv2D(64, (3, 3), activation = 'relu'))\n",
        "model.add(layers.MaxPooling2D(pool_size=(2, 2)))\n",
        "model.add(layers.Conv2D(128, (3, 3), activation = 'relu'))\n",
        "model.add(layers.MaxPooling2D(pool_size=(2, 2)))\n",
        "model.add(layers.Conv2D(128, (3, 3), activation = 'relu'))\n",
        "model.add(layers.MaxPooling2D(pool_size=(2, 2)))\n",
        "model.add(layers.Flatten())\n",
        "model.add(layers.Dense(512, activation = 'relu'))\n",
        "model.add(layers.Dense(1, activation = 'sigmoid'))"
      ],
      "execution_count": 0,
      "outputs": []
    },
    {
      "metadata": {
        "id": "DT7GH-6xDPgz",
        "colab_type": "code",
        "colab": {
          "base_uri": "https://localhost:8080/",
          "height": 521
        },
        "outputId": "f1f45df0-7aac-4223-83ff-cb505dbaee1f"
      },
      "cell_type": "code",
      "source": [
        "model.summary()"
      ],
      "execution_count": 35,
      "outputs": [
        {
          "output_type": "stream",
          "text": [
            "_________________________________________________________________\n",
            "Layer (type)                 Output Shape              Param #   \n",
            "=================================================================\n",
            "conv2d_5 (Conv2D)            (None, 148, 148, 32)      896       \n",
            "_________________________________________________________________\n",
            "max_pooling2d_5 (MaxPooling2 (None, 74, 74, 32)        0         \n",
            "_________________________________________________________________\n",
            "conv2d_6 (Conv2D)            (None, 72, 72, 64)        18496     \n",
            "_________________________________________________________________\n",
            "max_pooling2d_6 (MaxPooling2 (None, 36, 36, 64)        0         \n",
            "_________________________________________________________________\n",
            "conv2d_7 (Conv2D)            (None, 34, 34, 128)       73856     \n",
            "_________________________________________________________________\n",
            "max_pooling2d_7 (MaxPooling2 (None, 17, 17, 128)       0         \n",
            "_________________________________________________________________\n",
            "conv2d_8 (Conv2D)            (None, 15, 15, 128)       147584    \n",
            "_________________________________________________________________\n",
            "max_pooling2d_8 (MaxPooling2 (None, 7, 7, 128)         0         \n",
            "_________________________________________________________________\n",
            "flatten_2 (Flatten)          (None, 6272)              0         \n",
            "_________________________________________________________________\n",
            "dense_3 (Dense)              (None, 512)               3211776   \n",
            "_________________________________________________________________\n",
            "dense_4 (Dense)              (None, 1)                 513       \n",
            "=================================================================\n",
            "Total params: 3,453,121\n",
            "Trainable params: 3,453,121\n",
            "Non-trainable params: 0\n",
            "_________________________________________________________________\n"
          ],
          "name": "stdout"
        }
      ]
    },
    {
      "metadata": {
        "id": "LpPUqKztDPhF",
        "colab_type": "text"
      },
      "cell_type": "markdown",
      "source": [
        "Para el paso de compilación utilizaremos el optimizador `RMSprop`(lr=1e-4). Como nuestra red termina con una única unidad sigmoide, vamos a utilizar binary crossentropy como nuestra función de pérdida."
      ]
    },
    {
      "metadata": {
        "id": "dHpOxQF1DPhI",
        "colab_type": "code",
        "colab": {}
      },
      "cell_type": "code",
      "source": [
        "from keras import optimizers\n",
        "\n",
        "model.compile(optimizer = optimizers.RMSprop(lr = 1e-4),\n",
        "              loss = 'binary_crossentropy', \n",
        "              metrics=['acc'])"
      ],
      "execution_count": 0,
      "outputs": []
    },
    {
      "metadata": {
        "id": "cx4sy8ZiDPhj",
        "colab_type": "text"
      },
      "cell_type": "markdown",
      "source": [
        "##  Preprocesado de datos\n",
        "\n",
        "Las imágenes deben estar formateadas apropiadamente en tensores de flotantes antes de dárselas a la red. Esto es justo lo que vamos a hacer aqui. Antes de preprocesarlas las imágenes son archivos JPEG. Los pasos para poder darlos a nuestra red son a grandes rasgos:\n",
        "\n",
        "* Leer los archivos con las imágenes.\n",
        "* Decodificar el contenido del JPEG en una \"parrilla\" con el RGB de los pixels \n",
        "* Convertir esa \"parrilla\" en tensores de flotantes\n",
        "* Re-escalar los valores de los pixels (enre 0 y 255) al intervalo [0, 1] ya que las redes neuronales prefieren trabajar con valores pequeños. \n",
        "\n",
        "Todo esto puede parecer muy complicado pero gracias a Keras nuestra vida es mucho más fácil y podemos contar con tus herramientas para ocuparse de estos pasos automaticamente. Keras tiene un módulo con herramientas para el tratamiento de imágenes, que se puede encontrar en  `keras.preprocessing.image`. En particular, contiene la clase `ImageDataGenerator` que nos permite automaticamente convertir imágenes que tengamos en el disco duro en tensores pre-procesados. Esto es justamente lo que usaremos a continuación. Para ello podemos utilizar el flow_from_directory para coger las imágenes directamente de las carpetas que generamos previamente. Le damos como entrada las carpetas donde están las imágenes de entrenamiento (o validación), el tamaño de las imágenes (target_size), tamaño del batch que vamos a usar (vamos a empezar por 20) y como solo hay dos categorías, le decimos que vamos a usar binary_crossentropy (class_mode). Al correr estos comandos obtendremos lo siguiente el número total de imágenes y cuantas clases hay."
      ]
    },
    {
      "metadata": {
        "id": "V8omZeHbDPhp",
        "colab_type": "code",
        "colab": {
          "base_uri": "https://localhost:8080/",
          "height": 52
        },
        "outputId": "3f75822d-c44f-4025-e8f3-d206621f04d0"
      },
      "cell_type": "code",
      "source": [
        "from keras.preprocessing.image import ImageDataGenerator\n",
        "\n",
        "train_datagen = ImageDataGenerator(1. / 255)\n",
        "validation_datagen = ImageDataGenerator(1. / 255)\n",
        "\n",
        "train_generator = train_datagen.flow_from_directory(train_dir,\n",
        "                                                    target_size = (150, 150),\n",
        "                                                    batch_size = 20,\n",
        "                                                    class_mode = 'binary')\n",
        "\n",
        "validation_generator = validation_datagen.flow_from_directory(validation_dir,\n",
        "                                                              target_size = (150, 150),\n",
        "                                                              batch_size = 20,\n",
        "                                                              class_mode = 'binary')"
      ],
      "execution_count": 37,
      "outputs": [
        {
          "output_type": "stream",
          "text": [
            "Found 2000 images belonging to 2 classes.\n",
            "Found 1000 images belonging to 2 classes.\n"
          ],
          "name": "stdout"
        }
      ]
    },
    {
      "metadata": {
        "id": "hPF0kp_ADPh_",
        "colab_type": "text"
      },
      "cell_type": "markdown",
      "source": [
        "Vamos a echar un vistazo a uno de estos generadores: nos lleva a un batch de 150x150 imágenes RGB (dimensiones `(20, 150, 150, 3)`) y etiquetas binarias (dimensión `(20,)`). 20 es el número de ejemplos en cada batch (lo que llamamos el tamaño del batch). El generador genera estos batches de manera indefinida: corre un bucle sin cesar por todas las imágenes que tengamos en la carpeta. Por eso tenemos que escribir `break` para romper el bucle en algún momento.\n"
      ]
    },
    {
      "metadata": {
        "id": "cn2ykcaYDPiR",
        "colab_type": "code",
        "colab": {
          "base_uri": "https://localhost:8080/",
          "height": 106
        },
        "outputId": "a56d3103-aa91-482e-eff7-234084886bb6"
      },
      "cell_type": "code",
      "source": [
        "for data_batch, labels_batch in train_generator:\n",
        "    print('data batch shape:', data_batch.shape)\n",
        "    print('labels batch shape:', labels_batch.shape)\n",
        "    break"
      ],
      "execution_count": 38,
      "outputs": [
        {
          "output_type": "stream",
          "text": [
            "data batch shape: (20, 150, 150, 3)\n",
            "labels batch shape: (20,)\n"
          ],
          "name": "stdout"
        },
        {
          "output_type": "stream",
          "text": [
            "/usr/local/lib/python3.6/dist-packages/keras_preprocessing/image/image_data_generator.py:699: UserWarning: This ImageDataGenerator specifies `featurewise_center`, but it hasn't been fit on any training data. Fit it first by calling `.fit(numpy_data)`.\n",
            "  warnings.warn('This ImageDataGenerator specifies '\n"
          ],
          "name": "stderr"
        }
      ]
    },
    {
      "metadata": {
        "id": "gRrdcCxZDPjD",
        "colab_type": "text"
      },
      "cell_type": "markdown",
      "source": [
        "Ahora vamos a hacer el fit. En este caso, como lo que tenemos es un generator, utilizamos fit_generator. Vamos a correr 30 épocas y a utilizar el dataset de validación."
      ]
    },
    {
      "metadata": {
        "id": "y3GKq53YgKjc",
        "colab_type": "text"
      },
      "cell_type": "markdown",
      "source": [
        "### Obtuve los siguientes errores cuando corrí el modelo en Colaboratory por primera vez, por lo que tuve que especificar los parámetros solicitados.\n",
        "\n",
        "* ValueError: `steps_per_epoch=None` is only valid for a generator based on the `keras.utils.Sequence` class. Please specify `steps_per_epoch` or use the `keras.utils.Sequence` class.\n",
        "\n",
        "* ValueError: `validation_steps=None` is only valid for a generator based on the `keras.utils.Sequence` class. Please specify `validation_steps` or use the `keras.utils.Sequence` class."
      ]
    },
    {
      "metadata": {
        "id": "lG1JhoNGDPjI",
        "colab_type": "code",
        "colab": {
          "base_uri": "https://localhost:8080/",
          "height": 1114
        },
        "outputId": "5132ffda-933e-41b4-ac3f-4c4e37c5357a"
      },
      "cell_type": "code",
      "source": [
        "history = model.fit_generator(train_generator,\n",
        "                              steps_per_epoch = 100,\n",
        "                              epochs = 30, \n",
        "                              validation_data = validation_generator,\n",
        "                              validation_steps=50)"
      ],
      "execution_count": 44,
      "outputs": [
        {
          "output_type": "stream",
          "text": [
            "Epoch 1/30\n",
            "  2/100 [..............................] - ETA: 9s - loss: 8.3698 - acc: 0.4750 "
          ],
          "name": "stdout"
        },
        {
          "output_type": "stream",
          "text": [
            "/usr/local/lib/python3.6/dist-packages/keras_preprocessing/image/image_data_generator.py:699: UserWarning: This ImageDataGenerator specifies `featurewise_center`, but it hasn't been fit on any training data. Fit it first by calling `.fit(numpy_data)`.\n",
            "  warnings.warn('This ImageDataGenerator specifies '\n"
          ],
          "name": "stderr"
        },
        {
          "output_type": "stream",
          "text": [
            "100/100 [==============================] - 8s 85ms/step - loss: 7.8915 - acc: 0.5050 - val_loss: 7.9553 - val_acc: 0.5010\n",
            "Epoch 2/30\n",
            "100/100 [==============================] - 9s 94ms/step - loss: 8.0190 - acc: 0.4970 - val_loss: 7.9712 - val_acc: 0.5000\n",
            "Epoch 3/30\n",
            "100/100 [==============================] - 8s 81ms/step - loss: 7.9393 - acc: 0.5020 - val_loss: 7.9712 - val_acc: 0.5000\n",
            "Epoch 4/30\n",
            "100/100 [==============================] - 8s 81ms/step - loss: 8.0668 - acc: 0.4940 - val_loss: 8.0190 - val_acc: 0.4970\n",
            "Epoch 5/30\n",
            "100/100 [==============================] - 8s 81ms/step - loss: 7.8197 - acc: 0.5095 - val_loss: 7.9074 - val_acc: 0.5040\n",
            "Epoch 6/30\n",
            "100/100 [==============================] - 8s 81ms/step - loss: 7.9632 - acc: 0.5005 - val_loss: 7.9871 - val_acc: 0.4990\n",
            "Epoch 7/30\n",
            "100/100 [==============================] - 8s 81ms/step - loss: 8.0190 - acc: 0.4970 - val_loss: 8.0190 - val_acc: 0.4970\n",
            "Epoch 8/30\n",
            "100/100 [==============================] - 9s 92ms/step - loss: 7.9632 - acc: 0.5005 - val_loss: 7.9393 - val_acc: 0.5020\n",
            "Epoch 9/30\n",
            "100/100 [==============================] - 9s 86ms/step - loss: 7.9313 - acc: 0.5025 - val_loss: 7.9393 - val_acc: 0.5020\n",
            "Epoch 10/30\n",
            "100/100 [==============================] - 8s 82ms/step - loss: 8.0908 - acc: 0.4925 - val_loss: 7.8596 - val_acc: 0.5070\n",
            "Epoch 11/30\n",
            "100/100 [==============================] - 9s 87ms/step - loss: 7.9154 - acc: 0.5035 - val_loss: 8.0668 - val_acc: 0.4940\n",
            "Epoch 12/30\n",
            "100/100 [==============================] - 9s 89ms/step - loss: 8.0270 - acc: 0.4965 - val_loss: 7.9871 - val_acc: 0.4990\n",
            "Epoch 13/30\n",
            "100/100 [==============================] - 8s 81ms/step - loss: 7.8277 - acc: 0.5090 - val_loss: 7.8915 - val_acc: 0.5050\n",
            "Epoch 14/30\n",
            "100/100 [==============================] - 8s 82ms/step - loss: 8.0509 - acc: 0.4950 - val_loss: 7.9393 - val_acc: 0.5020\n",
            "Epoch 15/30\n",
            "100/100 [==============================] - 8s 81ms/step - loss: 7.9473 - acc: 0.5015 - val_loss: 8.0509 - val_acc: 0.4950\n",
            "Epoch 16/30\n",
            "100/100 [==============================] - 8s 81ms/step - loss: 8.0350 - acc: 0.4960 - val_loss: 8.0190 - val_acc: 0.4970\n",
            "Epoch 17/30\n",
            "100/100 [==============================] - 8s 81ms/step - loss: 7.9234 - acc: 0.5030 - val_loss: 7.9234 - val_acc: 0.5030\n",
            "Epoch 18/30\n",
            "100/100 [==============================] - 8s 81ms/step - loss: 8.0429 - acc: 0.4955 - val_loss: 8.0350 - val_acc: 0.4960\n",
            "Epoch 19/30\n",
            "100/100 [==============================] - 8s 82ms/step - loss: 7.9712 - acc: 0.5000 - val_loss: 7.8755 - val_acc: 0.5060\n",
            "Epoch 20/30\n",
            "100/100 [==============================] - 8s 84ms/step - loss: 7.9154 - acc: 0.5035 - val_loss: 7.9074 - val_acc: 0.5040\n",
            "Epoch 21/30\n",
            "100/100 [==============================] - 9s 93ms/step - loss: 8.0350 - acc: 0.4960 - val_loss: 8.0828 - val_acc: 0.4930\n",
            "Epoch 22/30\n",
            "100/100 [==============================] - 9s 86ms/step - loss: 7.9632 - acc: 0.5005 - val_loss: 8.0190 - val_acc: 0.4970\n",
            "Epoch 23/30\n",
            "100/100 [==============================] - 8s 85ms/step - loss: 8.0190 - acc: 0.4970 - val_loss: 7.9074 - val_acc: 0.5040\n",
            "Epoch 24/30\n",
            "100/100 [==============================] - 9s 85ms/step - loss: 7.8835 - acc: 0.5055 - val_loss: 7.9871 - val_acc: 0.4990\n",
            "Epoch 25/30\n",
            "100/100 [==============================] - 8s 84ms/step - loss: 7.8915 - acc: 0.5050 - val_loss: 8.0509 - val_acc: 0.4950\n",
            "Epoch 26/30\n",
            "100/100 [==============================] - 8s 83ms/step - loss: 8.0270 - acc: 0.4965 - val_loss: 7.9393 - val_acc: 0.5020\n",
            "Epoch 27/30\n",
            "100/100 [==============================] - 8s 82ms/step - loss: 7.9553 - acc: 0.5010 - val_loss: 8.0350 - val_acc: 0.4960\n",
            "Epoch 28/30\n",
            "100/100 [==============================] - 8s 82ms/step - loss: 8.0828 - acc: 0.4930 - val_loss: 7.8437 - val_acc: 0.5080\n",
            "Epoch 29/30\n",
            "100/100 [==============================] - 8s 82ms/step - loss: 7.9632 - acc: 0.5005 - val_loss: 8.0350 - val_acc: 0.4960\n",
            "Epoch 30/30\n",
            "100/100 [==============================] - 8s 85ms/step - loss: 7.9313 - acc: 0.5025 - val_loss: 7.9871 - val_acc: 0.4990\n"
          ],
          "name": "stdout"
        }
      ]
    },
    {
      "metadata": {
        "id": "DsQetn7Fakar",
        "colab_type": "text"
      },
      "cell_type": "markdown",
      "source": [
        "## Plot accuracy vs epochs (Plot 1)."
      ]
    },
    {
      "metadata": {
        "id": "8AFa-E5oh_I4",
        "colab_type": "code",
        "colab": {
          "base_uri": "https://localhost:8080/",
          "height": 312
        },
        "outputId": "180fc0a0-434f-4d15-f80c-bf9e12d4c79e"
      },
      "cell_type": "code",
      "source": [
        "import matplotlib.pyplot as plt\n",
        "\n",
        "plt.plot(history.history['acc'], label = 'Training Set Acc')\n",
        "plt.plot(history.history['val_acc'], label = 'Validation Set Acc', dashes=[6, 2])\n",
        "plt.title('Accuracy in Validation and Training')\n",
        "plt.legend()\n",
        "plt.xlabel('Epochs')\n",
        "plt.figure()\n",
        "plt.show()"
      ],
      "execution_count": 57,
      "outputs": [
        {
          "output_type": "display_data",
          "data": {
            "image/png": "[encoded data removed]",
            "text/plain": [
              "<Figure size 432x288 with 1 Axes>"
            ]
          },
          "metadata": {
            "tags": []
          }
        },
        {
          "output_type": "display_data",
          "data": {
            "text/plain": [
              "<Figure size 432x288 with 0 Axes>"
            ]
          },
          "metadata": {
            "tags": []
          }
        }
      ]
    },
    {
      "metadata": {
        "id": "aUVHaPx4DPk3",
        "colab_type": "code",
        "colab": {}
      },
      "cell_type": "code",
      "source": [
        "model.save('dogcat_convnet.h5')"
      ],
      "execution_count": 0,
      "outputs": []
    },
    {
      "metadata": {
        "id": "W-pYrQmZDrIY",
        "colab_type": "code",
        "colab": {
          "base_uri": "https://localhost:8080/",
          "height": 34
        },
        "outputId": "88e06576-b490-43b6-f95c-a8418ab1b59a"
      },
      "cell_type": "code",
      "source": [
        "pwd"
      ],
      "execution_count": 64,
      "outputs": [
        {
          "output_type": "execute_result",
          "data": {
            "text/plain": [
              "'/tmp/catdog'"
            ]
          },
          "metadata": {
            "tags": []
          },
          "execution_count": 64
        }
      ]
    },
    {
      "metadata": {
        "id": "hyzXT93iDPlJ",
        "colab_type": "text"
      },
      "cell_type": "markdown",
      "source": [
        "Ahora evalua el modelo en el dataset de test."
      ]
    },
    {
      "metadata": {
        "id": "k-9jt6l1DPlT",
        "colab_type": "code",
        "colab": {
          "base_uri": "https://localhost:8080/",
          "height": 52
        },
        "outputId": "c30257b9-8e68-4a1b-da28-605a5eedfb48"
      },
      "cell_type": "code",
      "source": [
        "from keras.models import load_model\n",
        "model = load_model(\"dogcat_convnet.h5\")\n",
        "test_datagen = ImageDataGenerator(rescale=1./255)\n",
        "test_generator = test_datagen.flow_from_directory('/tmp/catdog', target_size=(150, 150), batch_size=20, class_mode='binary')\n",
        "model.evaluate_generator(test_generator, steps = 2)"
      ],
      "execution_count": 65,
      "outputs": [
        {
          "output_type": "stream",
          "text": [
            "Found 4000 images belonging to 3 classes.\n"
          ],
          "name": "stdout"
        },
        {
          "output_type": "execute_result",
          "data": {
            "text/plain": [
              "[0.3748156428337097, 0.5250000059604645]"
            ]
          },
          "metadata": {
            "tags": []
          },
          "execution_count": 65
        }
      ]
    },
    {
      "metadata": {
        "id": "SOERWekDDPlZ",
        "colab_type": "text"
      },
      "cell_type": "markdown",
      "source": [
        "Prueba a optimizar la red. Para ello puedes utilizar las herramientas utilizadas en clase. Puedes probar a optimizar en términos de velocidad y de accuracy. Comenta los resultados."
      ]
    },
    {
      "metadata": {
        "id": "CRViAzO-UQE1",
        "colab_type": "text"
      },
      "cell_type": "markdown",
      "source": [
        "## Vamos a hacer un intento con 50 épocas y ver cómo se comporta el modelo. Además se incluye: *Data Augmentation* y *Dropout*\n"
      ]
    },
    {
      "metadata": {
        "id": "iNbGZpWNDPla",
        "colab_type": "code",
        "colab": {}
      },
      "cell_type": "code",
      "source": [
        "##dropout, data augmentation, optimizer type.\n",
        "\n",
        "model = models.Sequential()\n",
        "model.add(layers.Conv2D(32, kernel_size=(3, 3),\n",
        "                 activation='relu',\n",
        "                 input_shape=(150, 150, 3)))\n",
        "\n",
        "model.add(layers.MaxPooling2D(pool_size=(2, 2)))\n",
        "model.add(layers.Conv2D(64, (3, 3), \n",
        "                        activation = 'relu'))\n",
        "\n",
        "model.add(layers.MaxPooling2D(pool_size=(2, 2)))\n",
        "model.add(layers.Conv2D(128, (3, 3), \n",
        "                        activation = 'relu'))\n",
        "\n",
        "model.add(layers.MaxPooling2D(pool_size=(2, 2)))\n",
        "model.add(layers.Conv2D(128, (3, 3), \n",
        "                        activation = 'relu'))\n",
        "\n",
        "model.add(layers.MaxPooling2D(pool_size=(2, 2)))\n",
        "model.add(layers.Flatten())\n",
        "model.add(layers.Dropout(0.4))\n",
        "model.add(layers.Dense(512, \n",
        "                       activation = 'relu'))\n",
        "model.add(layers.Dense(1, \n",
        "                       activation = 'sigmoid'))\n",
        "\n",
        "\n",
        "model.compile(optimizer = optimizers.RMSprop(lr=1e-4),\n",
        "              loss = 'binary_crossentropy', \n",
        "              metrics=['acc'])"
      ],
      "execution_count": 0,
      "outputs": []
    },
    {
      "metadata": {
        "id": "Yvm-Z0wRIV4d",
        "colab_type": "code",
        "colab": {
          "base_uri": "https://localhost:8080/",
          "height": 1843
        },
        "outputId": "da779da1-0a8d-4732-93e4-89aa86112384"
      },
      "cell_type": "code",
      "source": [
        "train_datagen = ImageDataGenerator(\n",
        "                     rescale = 1. /255,                 \n",
        "                     rotation_range = 40,\n",
        "                     width_shift_range = 0.2,\n",
        "                     height_shift_range = 0.2,\n",
        "                     shear_range = 0.2,\n",
        "                     zoom_range = 0.2,\n",
        "                     horizontal_flip = True)\n",
        "                     \n",
        "train_generator = train_datagen.flow_from_directory(train_dir,\n",
        "                                                    target_size = (150, 150),\n",
        "                                                    batch_size = 30,\n",
        "                                                    class_mode = 'binary')\n",
        "\n",
        "validation_generator = validation_datagen.flow_from_directory(validation_dir,\n",
        "                                                              target_size = (150, 150),\n",
        "                                                              batch_size = 30,\n",
        "                                                              class_mode = 'binary')\n",
        "history = model.fit_generator(train_generator,\n",
        "                              steps_per_epoch = 100,\n",
        "                              epochs = 50, \n",
        "                              validation_data = validation_generator,\n",
        "                              validation_steps=50)"
      ],
      "execution_count": 80,
      "outputs": [
        {
          "output_type": "stream",
          "text": [
            "Found 2000 images belonging to 2 classes.\n",
            "Found 1000 images belonging to 2 classes.\n",
            "Epoch 1/50\n"
          ],
          "name": "stdout"
        },
        {
          "output_type": "stream",
          "text": [
            "/usr/local/lib/python3.6/dist-packages/keras_preprocessing/image/image_data_generator.py:699: UserWarning: This ImageDataGenerator specifies `featurewise_center`, but it hasn't been fit on any training data. Fit it first by calling `.fit(numpy_data)`.\n",
            "  warnings.warn('This ImageDataGenerator specifies '\n"
          ],
          "name": "stderr"
        },
        {
          "output_type": "stream",
          "text": [
            "100/100 [==============================] - 27s 269ms/step - loss: 0.6933 - acc: 0.5173 - val_loss: 5.5905 - val_acc: 0.5372\n",
            "Epoch 2/50\n",
            "100/100 [==============================] - 23s 227ms/step - loss: 0.6860 - acc: 0.5543 - val_loss: 5.7224 - val_acc: 0.6020\n",
            "Epoch 3/50\n",
            "100/100 [==============================] - 23s 228ms/step - loss: 0.6673 - acc: 0.5918 - val_loss: 6.0948 - val_acc: 0.5966\n",
            "Epoch 4/50\n",
            "100/100 [==============================] - 23s 226ms/step - loss: 0.6493 - acc: 0.6133 - val_loss: 6.4928 - val_acc: 0.5804\n",
            "Epoch 5/50\n",
            "100/100 [==============================] - 25s 255ms/step - loss: 0.6260 - acc: 0.6490 - val_loss: 6.6464 - val_acc: 0.5712\n",
            "Epoch 6/50\n",
            "100/100 [==============================] - 24s 237ms/step - loss: 0.6157 - acc: 0.6557 - val_loss: 7.2817 - val_acc: 0.5419\n",
            "Epoch 7/50\n",
            "100/100 [==============================] - 23s 228ms/step - loss: 0.6014 - acc: 0.6827 - val_loss: 6.0294 - val_acc: 0.6082\n",
            "Epoch 8/50\n",
            "100/100 [==============================] - 24s 243ms/step - loss: 0.5909 - acc: 0.6755 - val_loss: 6.0895 - val_acc: 0.6108\n",
            "Epoch 9/50\n",
            "100/100 [==============================] - 23s 227ms/step - loss: 0.5899 - acc: 0.6855 - val_loss: 6.9947 - val_acc: 0.5596\n",
            "Epoch 10/50\n",
            "100/100 [==============================] - 23s 228ms/step - loss: 0.5799 - acc: 0.7028 - val_loss: 5.7635 - val_acc: 0.6270\n",
            "Epoch 11/50\n",
            "100/100 [==============================] - 23s 235ms/step - loss: 0.5673 - acc: 0.7078 - val_loss: 6.6048 - val_acc: 0.5767\n",
            "Epoch 12/50\n",
            "100/100 [==============================] - 24s 236ms/step - loss: 0.5591 - acc: 0.7168 - val_loss: 6.1120 - val_acc: 0.6101\n",
            "Epoch 13/50\n",
            "100/100 [==============================] - 23s 227ms/step - loss: 0.5649 - acc: 0.7003 - val_loss: 5.7418 - val_acc: 0.6349\n",
            "Epoch 14/50\n",
            "100/100 [==============================] - 23s 227ms/step - loss: 0.5508 - acc: 0.7263 - val_loss: 6.4162 - val_acc: 0.5899\n",
            "Epoch 15/50\n",
            "100/100 [==============================] - 24s 241ms/step - loss: 0.5371 - acc: 0.7267 - val_loss: 6.3454 - val_acc: 0.5945\n",
            "Epoch 16/50\n",
            "100/100 [==============================] - 23s 227ms/step - loss: 0.5518 - acc: 0.7147 - val_loss: 6.5202 - val_acc: 0.5838\n",
            "Epoch 17/50\n",
            "100/100 [==============================] - 23s 227ms/step - loss: 0.5442 - acc: 0.7160 - val_loss: 6.5453 - val_acc: 0.5829\n",
            "Epoch 18/50\n",
            "100/100 [==============================] - 24s 235ms/step - loss: 0.5313 - acc: 0.7330 - val_loss: 6.1963 - val_acc: 0.6054\n",
            "Epoch 19/50\n",
            "100/100 [==============================] - 25s 249ms/step - loss: 0.5215 - acc: 0.7352 - val_loss: 6.1784 - val_acc: 0.6081\n",
            "Epoch 20/50\n",
            "100/100 [==============================] - 23s 232ms/step - loss: 0.5228 - acc: 0.7363 - val_loss: 5.5905 - val_acc: 0.6473\n",
            "Epoch 21/50\n",
            "100/100 [==============================] - 23s 227ms/step - loss: 0.5214 - acc: 0.7442 - val_loss: 5.3960 - val_acc: 0.6574\n",
            "Epoch 22/50\n",
            "100/100 [==============================] - 24s 242ms/step - loss: 0.5197 - acc: 0.7392 - val_loss: 6.0560 - val_acc: 0.6185\n",
            "Epoch 23/50\n",
            "100/100 [==============================] - 23s 227ms/step - loss: 0.5159 - acc: 0.7462 - val_loss: 5.0537 - val_acc: 0.6736\n",
            "Epoch 24/50\n",
            "100/100 [==============================] - 23s 227ms/step - loss: 0.5028 - acc: 0.7553 - val_loss: 6.1005 - val_acc: 0.6116\n",
            "Epoch 25/50\n",
            "100/100 [==============================] - 24s 240ms/step - loss: 0.5029 - acc: 0.7462 - val_loss: 5.6234 - val_acc: 0.6399\n",
            "Epoch 26/50\n",
            "100/100 [==============================] - 23s 230ms/step - loss: 0.5014 - acc: 0.7548 - val_loss: 5.6580 - val_acc: 0.6370\n",
            "Epoch 27/50\n",
            "100/100 [==============================] - 23s 227ms/step - loss: 0.4872 - acc: 0.7678 - val_loss: 5.6019 - val_acc: 0.6405\n",
            "Epoch 28/50\n",
            "100/100 [==============================] - 23s 228ms/step - loss: 0.4994 - acc: 0.7460 - val_loss: 6.2498 - val_acc: 0.6034\n",
            "Epoch 29/50\n",
            "100/100 [==============================] - 24s 241ms/step - loss: 0.4854 - acc: 0.7632 - val_loss: 5.5292 - val_acc: 0.6473\n",
            "Epoch 30/50\n",
            "100/100 [==============================] - 23s 227ms/step - loss: 0.4776 - acc: 0.7745 - val_loss: 5.1339 - val_acc: 0.6747\n",
            "Epoch 31/50\n",
            "100/100 [==============================] - 23s 226ms/step - loss: 0.4895 - acc: 0.7533 - val_loss: 5.1016 - val_acc: 0.6743\n",
            "Epoch 32/50\n",
            "100/100 [==============================] - 25s 253ms/step - loss: 0.4734 - acc: 0.7715 - val_loss: 5.7676 - val_acc: 0.6349\n",
            "Epoch 33/50\n",
            "100/100 [==============================] - 24s 235ms/step - loss: 0.4706 - acc: 0.7753 - val_loss: 5.4331 - val_acc: 0.6514\n",
            "Epoch 34/50\n",
            "100/100 [==============================] - 23s 226ms/step - loss: 0.4752 - acc: 0.7775 - val_loss: 5.3151 - val_acc: 0.6610\n",
            "Epoch 35/50\n",
            "100/100 [==============================] - 23s 227ms/step - loss: 0.4671 - acc: 0.7732 - val_loss: 5.2608 - val_acc: 0.6669\n",
            "Epoch 36/50\n",
            "100/100 [==============================] - 24s 242ms/step - loss: 0.4589 - acc: 0.7802 - val_loss: 5.9891 - val_acc: 0.6182\n",
            "Epoch 37/50\n",
            "100/100 [==============================] - 23s 227ms/step - loss: 0.4643 - acc: 0.7808 - val_loss: 6.1092 - val_acc: 0.6103\n",
            "Epoch 38/50\n",
            "100/100 [==============================] - 23s 228ms/step - loss: 0.4651 - acc: 0.7765 - val_loss: 5.8637 - val_acc: 0.6284\n",
            "Epoch 39/50\n",
            "100/100 [==============================] - 24s 241ms/step - loss: 0.4622 - acc: 0.7803 - val_loss: 5.0826 - val_acc: 0.6795\n",
            "Epoch 40/50\n",
            "100/100 [==============================] - 23s 228ms/step - loss: 0.4525 - acc: 0.7865 - val_loss: 5.0828 - val_acc: 0.6716\n",
            "Epoch 41/50\n",
            "100/100 [==============================] - 23s 226ms/step - loss: 0.4664 - acc: 0.7787 - val_loss: 5.4541 - val_acc: 0.6527\n",
            "Epoch 42/50\n",
            "100/100 [==============================] - 23s 227ms/step - loss: 0.4527 - acc: 0.7825 - val_loss: 4.4170 - val_acc: 0.7182\n",
            "Epoch 43/50\n",
            "100/100 [==============================] - 24s 241ms/step - loss: 0.4463 - acc: 0.7892 - val_loss: 5.3473 - val_acc: 0.6603\n",
            "Epoch 44/50\n",
            "100/100 [==============================] - 23s 229ms/step - loss: 0.4642 - acc: 0.7783 - val_loss: 4.8601 - val_acc: 0.6892\n",
            "Epoch 45/50\n",
            "100/100 [==============================] - 24s 240ms/step - loss: 0.4296 - acc: 0.7923 - val_loss: 4.7229 - val_acc: 0.6986\n",
            "Epoch 46/50\n",
            "100/100 [==============================] - 25s 254ms/step - loss: 0.4461 - acc: 0.7950 - val_loss: 4.9128 - val_acc: 0.6865\n",
            "Epoch 47/50\n",
            "100/100 [==============================] - 23s 226ms/step - loss: 0.4329 - acc: 0.7980 - val_loss: 5.6796 - val_acc: 0.6404\n",
            "Epoch 48/50\n",
            "100/100 [==============================] - 23s 228ms/step - loss: 0.4303 - acc: 0.7970 - val_loss: 4.6961 - val_acc: 0.7007\n",
            "Epoch 49/50\n",
            "100/100 [==============================] - 23s 233ms/step - loss: 0.4321 - acc: 0.7978 - val_loss: 5.2494 - val_acc: 0.6658\n",
            "Epoch 50/50\n",
            "100/100 [==============================] - 24s 236ms/step - loss: 0.4267 - acc: 0.8003 - val_loss: 5.3697 - val_acc: 0.6601\n"
          ],
          "name": "stdout"
        }
      ]
    },
    {
      "metadata": {
        "id": "VL82MnXUathV",
        "colab_type": "text"
      },
      "cell_type": "markdown",
      "source": [
        "## Plot accuracy vs epochs (Plot 2)."
      ]
    },
    {
      "metadata": {
        "id": "uXXfU3Q9RenE",
        "colab_type": "code",
        "colab": {
          "base_uri": "https://localhost:8080/",
          "height": 312
        },
        "outputId": "a9e0bf7c-28c8-4a1a-8804-1b6a59fd2fcb"
      },
      "cell_type": "code",
      "source": [
        "plt.plot(history.history['acc'], label = 'Training Set Acc')\n",
        "plt.plot(history.history['val_acc'], label = 'Validation Set Acc', dashes=[6, 2])\n",
        "plt.title('Accuracy in Validation and Training')\n",
        "plt.legend()\n",
        "plt.xlabel('Epochs')\n",
        "plt.figure()\n",
        "plt.show()"
      ],
      "execution_count": 81,
      "outputs": [
        {
          "output_type": "display_data",
          "data": {
            "image/png": "[encoded data removed]",
            "text/plain": [
              "<Figure size 432x288 with 1 Axes>"
            ]
          },
          "metadata": {
            "tags": []
          }
        },
        {
          "output_type": "display_data",
          "data": {
            "text/plain": [
              "<Figure size 432x288 with 0 Axes>"
            ]
          },
          "metadata": {
            "tags": []
          }
        }
      ]
    },
    {
      "metadata": {
        "id": "ukoBmoElUBOC",
        "colab_type": "text"
      },
      "cell_type": "markdown",
      "source": [
        "## Haré un último intento con 90 épocas, ya que estoy cerca de la hora de entrega, pero confío en Google y su GPU prestada       :P     :D"
      ]
    },
    {
      "metadata": {
        "id": "n1T13MnAUAaO",
        "colab_type": "code",
        "colab": {}
      },
      "cell_type": "code",
      "source": [
        "model = models.Sequential()\n",
        "model.add(layers.Conv2D(32, kernel_size=(3, 3),\n",
        "                 activation='relu',\n",
        "                 input_shape=(150, 150, 3)))\n",
        "\n",
        "model.add(layers.MaxPooling2D(pool_size=(2, 2)))\n",
        "model.add(layers.Conv2D(64, (3, 3), \n",
        "                        activation = 'relu'))\n",
        "\n",
        "model.add(layers.MaxPooling2D(pool_size=(2, 2)))\n",
        "model.add(layers.Conv2D(128, (3, 3), \n",
        "                        activation = 'relu'))\n",
        "\n",
        "model.add(layers.MaxPooling2D(pool_size=(2, 2)))\n",
        "model.add(layers.Conv2D(128, (3, 3), \n",
        "                        activation = 'relu'))\n",
        "\n",
        "model.add(layers.MaxPooling2D(pool_size=(2, 2)))\n",
        "model.add(layers.Flatten())\n",
        "model.add(layers.Dropout(0.4))\n",
        "model.add(layers.Dense(512, \n",
        "                       activation = 'relu'))\n",
        "model.add(layers.Dense(1, \n",
        "                       activation = 'sigmoid'))\n",
        "\n",
        "\n",
        "model.compile(optimizer = optimizers.RMSprop(lr=1e-4),\n",
        "              loss = 'binary_crossentropy', \n",
        "              metrics=['acc'])"
      ],
      "execution_count": 0,
      "outputs": []
    },
    {
      "metadata": {
        "id": "p33iWo3-U0CP",
        "colab_type": "code",
        "colab": {
          "base_uri": "https://localhost:8080/",
          "height": 3232
        },
        "outputId": "c7215822-cb26-4948-d548-847de0875a5b"
      },
      "cell_type": "code",
      "source": [
        "train_datagen = ImageDataGenerator(\n",
        "                     rescale = 1. /255,                 \n",
        "                     rotation_range = 40,\n",
        "                     width_shift_range = 0.2,\n",
        "                     height_shift_range = 0.2,\n",
        "                     shear_range = 0.2,\n",
        "                     zoom_range = 0.2,\n",
        "                     horizontal_flip = True)\n",
        "                     \n",
        "train_generator = train_datagen.flow_from_directory(train_dir,\n",
        "                                                    target_size = (150, 150),\n",
        "                                                    batch_size = 30,\n",
        "                                                    class_mode = 'binary')\n",
        "\n",
        "validation_generator = validation_datagen.flow_from_directory(validation_dir,\n",
        "                                                              target_size = (150, 150),\n",
        "                                                              batch_size = 30,\n",
        "                                                              class_mode = 'binary')\n",
        "history = model.fit_generator(train_generator,\n",
        "                              steps_per_epoch = 100,\n",
        "                              epochs = 90, \n",
        "                              validation_data = validation_generator,\n",
        "                              validation_steps=50)"
      ],
      "execution_count": 83,
      "outputs": [
        {
          "output_type": "stream",
          "text": [
            "Found 2000 images belonging to 2 classes.\n",
            "Found 1000 images belonging to 2 classes.\n",
            "Epoch 1/90\n"
          ],
          "name": "stdout"
        },
        {
          "output_type": "stream",
          "text": [
            "/usr/local/lib/python3.6/dist-packages/keras_preprocessing/image/image_data_generator.py:699: UserWarning: This ImageDataGenerator specifies `featurewise_center`, but it hasn't been fit on any training data. Fit it first by calling `.fit(numpy_data)`.\n",
            "  warnings.warn('This ImageDataGenerator specifies '\n"
          ],
          "name": "stderr"
        },
        {
          "output_type": "stream",
          "text": [
            "100/100 [==============================] - 27s 275ms/step - loss: 0.6922 - acc: 0.5208 - val_loss: 5.6333 - val_acc: 0.5818\n",
            "Epoch 2/90\n",
            "100/100 [==============================] - 23s 227ms/step - loss: 0.6812 - acc: 0.5620 - val_loss: 7.4653 - val_acc: 0.5223\n",
            "Epoch 3/90\n",
            "100/100 [==============================] - 24s 244ms/step - loss: 0.6687 - acc: 0.5955 - val_loss: 7.9180 - val_acc: 0.5000\n",
            "Epoch 4/90\n",
            "100/100 [==============================] - 23s 229ms/step - loss: 0.6568 - acc: 0.6030 - val_loss: 6.3259 - val_acc: 0.5845\n",
            "Epoch 5/90\n",
            "100/100 [==============================] - 24s 240ms/step - loss: 0.6362 - acc: 0.6363 - val_loss: 7.2449 - val_acc: 0.5411\n",
            "Epoch 6/90\n",
            "100/100 [==============================] - 23s 228ms/step - loss: 0.6223 - acc: 0.6418 - val_loss: 7.1068 - val_acc: 0.5507\n",
            "Epoch 7/90\n",
            "100/100 [==============================] - 23s 227ms/step - loss: 0.6081 - acc: 0.6592 - val_loss: 6.5375 - val_acc: 0.5815\n",
            "Epoch 8/90\n",
            "100/100 [==============================] - 24s 241ms/step - loss: 0.5919 - acc: 0.6728 - val_loss: 6.6292 - val_acc: 0.5791\n",
            "Epoch 9/90\n",
            "100/100 [==============================] - 23s 227ms/step - loss: 0.5828 - acc: 0.6932 - val_loss: 5.4853 - val_acc: 0.6493\n",
            "Epoch 10/90\n",
            "100/100 [==============================] - 23s 228ms/step - loss: 0.5799 - acc: 0.6942 - val_loss: 6.3768 - val_acc: 0.5912\n",
            "Epoch 11/90\n",
            "100/100 [==============================] - 23s 232ms/step - loss: 0.5705 - acc: 0.7042 - val_loss: 6.8086 - val_acc: 0.5630\n",
            "Epoch 12/90\n",
            "100/100 [==============================] - 24s 237ms/step - loss: 0.5688 - acc: 0.7060 - val_loss: 5.9027 - val_acc: 0.6230\n",
            "Epoch 13/90\n",
            "100/100 [==============================] - 23s 227ms/step - loss: 0.5524 - acc: 0.7153 - val_loss: 5.6607 - val_acc: 0.6384\n",
            "Epoch 14/90\n",
            "100/100 [==============================] - 23s 227ms/step - loss: 0.5568 - acc: 0.7133 - val_loss: 5.9162 - val_acc: 0.6223\n",
            "Epoch 15/90\n",
            "100/100 [==============================] - 24s 241ms/step - loss: 0.5464 - acc: 0.7170 - val_loss: 6.3800 - val_acc: 0.5870\n",
            "Epoch 16/90\n",
            "100/100 [==============================] - 25s 250ms/step - loss: 0.5396 - acc: 0.7108 - val_loss: 6.0583 - val_acc: 0.6122\n",
            "Epoch 17/90\n",
            "100/100 [==============================] - 23s 227ms/step - loss: 0.5362 - acc: 0.7250 - val_loss: 5.0984 - val_acc: 0.6760\n",
            "Epoch 18/90\n",
            "100/100 [==============================] - 24s 236ms/step - loss: 0.5265 - acc: 0.7302 - val_loss: 5.8773 - val_acc: 0.6236\n",
            "Epoch 19/90\n",
            "100/100 [==============================] - 23s 232ms/step - loss: 0.5415 - acc: 0.7268 - val_loss: 5.9554 - val_acc: 0.6216\n",
            "Epoch 20/90\n",
            "100/100 [==============================] - 23s 227ms/step - loss: 0.5208 - acc: 0.7427 - val_loss: 6.9438 - val_acc: 0.5616\n",
            "Epoch 21/90\n",
            "100/100 [==============================] - 23s 228ms/step - loss: 0.5290 - acc: 0.7293 - val_loss: 6.3793 - val_acc: 0.5939\n",
            "Epoch 22/90\n",
            "100/100 [==============================] - 24s 241ms/step - loss: 0.5209 - acc: 0.7360 - val_loss: 6.0821 - val_acc: 0.6158\n",
            "Epoch 23/90\n",
            "100/100 [==============================] - 23s 228ms/step - loss: 0.5170 - acc: 0.7373 - val_loss: 6.1091 - val_acc: 0.6135\n",
            "Epoch 24/90\n",
            "100/100 [==============================] - 23s 227ms/step - loss: 0.5226 - acc: 0.7425 - val_loss: 5.8335 - val_acc: 0.6315\n",
            "Epoch 25/90\n",
            "100/100 [==============================] - 24s 238ms/step - loss: 0.5051 - acc: 0.7540 - val_loss: 6.7293 - val_acc: 0.5743\n",
            "Epoch 26/90\n",
            "100/100 [==============================] - 23s 231ms/step - loss: 0.5050 - acc: 0.7513 - val_loss: 6.6842 - val_acc: 0.5767\n",
            "Epoch 27/90\n",
            "100/100 [==============================] - 23s 228ms/step - loss: 0.5057 - acc: 0.7522 - val_loss: 5.9679 - val_acc: 0.6203\n",
            "Epoch 28/90\n",
            "100/100 [==============================] - 23s 227ms/step - loss: 0.5096 - acc: 0.7492 - val_loss: 4.8479 - val_acc: 0.6925\n",
            "Epoch 29/90\n",
            "100/100 [==============================] - 25s 253ms/step - loss: 0.4919 - acc: 0.7568 - val_loss: 5.4950 - val_acc: 0.6473\n",
            "Epoch 30/90\n",
            "100/100 [==============================] - 24s 237ms/step - loss: 0.4850 - acc: 0.7637 - val_loss: 5.1398 - val_acc: 0.6712\n",
            "Epoch 31/90\n",
            "100/100 [==============================] - 23s 227ms/step - loss: 0.4818 - acc: 0.7598 - val_loss: 5.4184 - val_acc: 0.6561\n",
            "Epoch 32/90\n",
            "100/100 [==============================] - 24s 241ms/step - loss: 0.4939 - acc: 0.7548 - val_loss: 5.5563 - val_acc: 0.6473\n",
            "Epoch 33/90\n",
            "100/100 [==============================] - 23s 227ms/step - loss: 0.4830 - acc: 0.7635 - val_loss: 5.4570 - val_acc: 0.6514\n",
            "Epoch 34/90\n",
            "100/100 [==============================] - 23s 227ms/step - loss: 0.4762 - acc: 0.7750 - val_loss: 5.3201 - val_acc: 0.6596\n",
            "Epoch 35/90\n",
            "100/100 [==============================] - 23s 226ms/step - loss: 0.4790 - acc: 0.7638 - val_loss: 5.1140 - val_acc: 0.6703\n",
            "Epoch 36/90\n",
            "100/100 [==============================] - 24s 242ms/step - loss: 0.4740 - acc: 0.7768 - val_loss: 5.5127 - val_acc: 0.6500\n",
            "Epoch 37/90\n",
            "100/100 [==============================] - 23s 227ms/step - loss: 0.4703 - acc: 0.7668 - val_loss: 5.4672 - val_acc: 0.6548\n",
            "Epoch 38/90\n",
            "100/100 [==============================] - 23s 227ms/step - loss: 0.4729 - acc: 0.7735 - val_loss: 5.3231 - val_acc: 0.6608\n",
            "Epoch 39/90\n",
            "100/100 [==============================] - 24s 242ms/step - loss: 0.4734 - acc: 0.7697 - val_loss: 5.6280 - val_acc: 0.6445\n",
            "Epoch 40/90\n",
            "100/100 [==============================] - 23s 228ms/step - loss: 0.4499 - acc: 0.7898 - val_loss: 6.5998 - val_acc: 0.5851\n",
            "Epoch 41/90\n",
            "100/100 [==============================] - 23s 227ms/step - loss: 0.4569 - acc: 0.7805 - val_loss: 5.1050 - val_acc: 0.6712\n",
            "Epoch 42/90\n",
            "100/100 [==============================] - 24s 237ms/step - loss: 0.4606 - acc: 0.7727 - val_loss: 4.9917 - val_acc: 0.6831\n",
            "Epoch 43/90\n",
            "100/100 [==============================] - 25s 250ms/step - loss: 0.4603 - acc: 0.7853 - val_loss: 5.3423 - val_acc: 0.6596\n",
            "Epoch 44/90\n",
            "100/100 [==============================] - 23s 227ms/step - loss: 0.4465 - acc: 0.7927 - val_loss: 5.5507 - val_acc: 0.6480\n",
            "Epoch 45/90\n",
            "100/100 [==============================] - 23s 227ms/step - loss: 0.4453 - acc: 0.7872 - val_loss: 5.4834 - val_acc: 0.6527\n",
            "Epoch 46/90\n",
            "100/100 [==============================] - 24s 242ms/step - loss: 0.4461 - acc: 0.7978 - val_loss: 4.5177 - val_acc: 0.7149\n",
            "Epoch 47/90\n",
            "100/100 [==============================] - 23s 227ms/step - loss: 0.4651 - acc: 0.7787 - val_loss: 5.5136 - val_acc: 0.6486\n",
            "Epoch 48/90\n",
            "100/100 [==============================] - 23s 227ms/step - loss: 0.4397 - acc: 0.7942 - val_loss: 4.7353 - val_acc: 0.7014\n",
            "Epoch 49/90\n",
            "100/100 [==============================] - 23s 230ms/step - loss: 0.4471 - acc: 0.7895 - val_loss: 4.5989 - val_acc: 0.7055\n",
            "Epoch 50/90\n",
            "100/100 [==============================] - 24s 238ms/step - loss: 0.4375 - acc: 0.7940 - val_loss: 4.7160 - val_acc: 0.7000\n",
            "Epoch 51/90\n",
            "100/100 [==============================] - 23s 226ms/step - loss: 0.4328 - acc: 0.7983 - val_loss: 5.3895 - val_acc: 0.6589\n",
            "Epoch 52/90\n",
            "100/100 [==============================] - 23s 229ms/step - loss: 0.4388 - acc: 0.7898 - val_loss: 4.9608 - val_acc: 0.6851\n",
            "Epoch 53/90\n",
            "100/100 [==============================] - 24s 242ms/step - loss: 0.4367 - acc: 0.7925 - val_loss: 4.8621 - val_acc: 0.6892\n",
            "Epoch 54/90\n",
            "100/100 [==============================] - 23s 227ms/step - loss: 0.4399 - acc: 0.7892 - val_loss: 5.0300 - val_acc: 0.6788\n",
            "Epoch 55/90\n",
            "100/100 [==============================] - 23s 234ms/step - loss: 0.4210 - acc: 0.8018 - val_loss: 4.2854 - val_acc: 0.7297\n",
            "Epoch 56/90\n",
            "100/100 [==============================] - 25s 247ms/step - loss: 0.4109 - acc: 0.8060 - val_loss: 4.5012 - val_acc: 0.7130\n",
            "Epoch 57/90\n",
            "100/100 [==============================] - 23s 232ms/step - loss: 0.4258 - acc: 0.8112 - val_loss: 4.6592 - val_acc: 0.7014\n",
            "Epoch 58/90\n",
            "100/100 [==============================] - 23s 228ms/step - loss: 0.4108 - acc: 0.8097 - val_loss: 4.3337 - val_acc: 0.7247\n",
            "Epoch 59/90\n",
            "100/100 [==============================] - 23s 227ms/step - loss: 0.4193 - acc: 0.8003 - val_loss: 4.8938 - val_acc: 0.6905\n",
            "Epoch 60/90\n",
            "100/100 [==============================] - 24s 241ms/step - loss: 0.4190 - acc: 0.8088 - val_loss: 4.5862 - val_acc: 0.7082\n",
            "Epoch 61/90\n",
            "100/100 [==============================] - 23s 227ms/step - loss: 0.4000 - acc: 0.8170 - val_loss: 4.9688 - val_acc: 0.6865\n",
            "Epoch 62/90\n",
            "100/100 [==============================] - 23s 227ms/step - loss: 0.4070 - acc: 0.8073 - val_loss: 4.7936 - val_acc: 0.6945\n",
            "Epoch 63/90\n",
            "100/100 [==============================] - 24s 236ms/step - loss: 0.4066 - acc: 0.8097 - val_loss: 4.5213 - val_acc: 0.7122\n",
            "Epoch 64/90\n",
            "100/100 [==============================] - 23s 231ms/step - loss: 0.4069 - acc: 0.8163 - val_loss: 5.6769 - val_acc: 0.6404\n",
            "Epoch 65/90\n",
            "100/100 [==============================] - 23s 227ms/step - loss: 0.4056 - acc: 0.8057 - val_loss: 4.4118 - val_acc: 0.7182\n",
            "Epoch 66/90\n",
            "100/100 [==============================] - 23s 226ms/step - loss: 0.4107 - acc: 0.8078 - val_loss: 4.2169 - val_acc: 0.7322\n",
            "Epoch 67/90\n",
            "100/100 [==============================] - 24s 241ms/step - loss: 0.4080 - acc: 0.8130 - val_loss: 4.5617 - val_acc: 0.7101\n",
            "Epoch 68/90\n",
            "100/100 [==============================] - 23s 232ms/step - loss: 0.4035 - acc: 0.8083 - val_loss: 5.2427 - val_acc: 0.6671\n",
            "Epoch 69/90\n",
            "100/100 [==============================] - 24s 235ms/step - loss: 0.3994 - acc: 0.8107 - val_loss: 4.8252 - val_acc: 0.6939\n",
            "Epoch 70/90\n",
            "100/100 [==============================] - 25s 254ms/step - loss: 0.3977 - acc: 0.8218 - val_loss: 4.3979 - val_acc: 0.7223\n",
            "Epoch 71/90\n",
            "100/100 [==============================] - 23s 226ms/step - loss: 0.3825 - acc: 0.8218 - val_loss: 4.7716 - val_acc: 0.6959\n",
            "Epoch 72/90\n",
            "100/100 [==============================] - 23s 228ms/step - loss: 0.3906 - acc: 0.8338 - val_loss: 4.6756 - val_acc: 0.7000\n",
            "Epoch 73/90\n",
            "100/100 [==============================] - 23s 227ms/step - loss: 0.3811 - acc: 0.8272 - val_loss: 4.2323 - val_acc: 0.7260\n",
            "Epoch 74/90\n",
            "100/100 [==============================] - 24s 242ms/step - loss: 0.3881 - acc: 0.8152 - val_loss: 4.1619 - val_acc: 0.7318\n",
            "Epoch 75/90\n",
            "100/100 [==============================] - 23s 227ms/step - loss: 0.3711 - acc: 0.8308 - val_loss: 4.4293 - val_acc: 0.7199\n",
            "Epoch 76/90\n",
            "100/100 [==============================] - 23s 227ms/step - loss: 0.3955 - acc: 0.8242 - val_loss: 5.1682 - val_acc: 0.6703\n",
            "Epoch 77/90\n",
            "100/100 [==============================] - 24s 242ms/step - loss: 0.3809 - acc: 0.8293 - val_loss: 4.5068 - val_acc: 0.7151\n",
            "Epoch 78/90\n",
            "100/100 [==============================] - 23s 228ms/step - loss: 0.3752 - acc: 0.8315 - val_loss: 5.2637 - val_acc: 0.6655\n",
            "Epoch 79/90\n",
            "100/100 [==============================] - 23s 228ms/step - loss: 0.3751 - acc: 0.8288 - val_loss: 3.8328 - val_acc: 0.7541\n",
            "Epoch 80/90\n",
            "100/100 [==============================] - 23s 228ms/step - loss: 0.3831 - acc: 0.8225 - val_loss: 4.3853 - val_acc: 0.7196\n",
            "Epoch 81/90\n",
            "100/100 [==============================] - 24s 242ms/step - loss: 0.3682 - acc: 0.8345 - val_loss: 4.6567 - val_acc: 0.7034\n",
            "Epoch 82/90\n",
            "100/100 [==============================] - 23s 234ms/step - loss: 0.3889 - acc: 0.8222 - val_loss: 4.6351 - val_acc: 0.7054\n",
            "Epoch 83/90\n",
            "100/100 [==============================] - 24s 244ms/step - loss: 0.3709 - acc: 0.8328 - val_loss: 4.7657 - val_acc: 0.6993\n",
            "Epoch 84/90\n",
            "100/100 [==============================] - 24s 241ms/step - loss: 0.3545 - acc: 0.8440 - val_loss: 5.2903 - val_acc: 0.6655\n",
            "Epoch 85/90\n",
            "100/100 [==============================] - 23s 227ms/step - loss: 0.3654 - acc: 0.8340 - val_loss: 4.4128 - val_acc: 0.7192\n",
            "Epoch 86/90\n",
            "100/100 [==============================] - 23s 228ms/step - loss: 0.3671 - acc: 0.8370 - val_loss: 4.8409 - val_acc: 0.6919\n",
            "Epoch 87/90\n",
            "100/100 [==============================] - 23s 233ms/step - loss: 0.3460 - acc: 0.8478 - val_loss: 4.6501 - val_acc: 0.7034\n",
            "Epoch 88/90\n",
            "100/100 [==============================] - 23s 235ms/step - loss: 0.3661 - acc: 0.8372 - val_loss: 4.8587 - val_acc: 0.6918\n",
            "Epoch 89/90\n",
            "100/100 [==============================] - 23s 227ms/step - loss: 0.3453 - acc: 0.8445 - val_loss: 5.2976 - val_acc: 0.6642\n",
            "Epoch 90/90\n",
            "100/100 [==============================] - 23s 227ms/step - loss: 0.3670 - acc: 0.8407 - val_loss: 3.9950 - val_acc: 0.7425\n"
          ],
          "name": "stdout"
        }
      ]
    },
    {
      "metadata": {
        "id": "WGCohNH4axN4",
        "colab_type": "text"
      },
      "cell_type": "markdown",
      "source": [
        "## Plot accuracy vs epochs (Plot 3)."
      ]
    },
    {
      "metadata": {
        "id": "mXE-7FmxazfR",
        "colab_type": "code",
        "colab": {
          "base_uri": "https://localhost:8080/",
          "height": 312
        },
        "outputId": "ea215ec2-ae3e-430c-d8fc-eff5205953c0"
      },
      "cell_type": "code",
      "source": [
        "plt.plot(history.history['acc'], label = 'Training Set Acc')\n",
        "plt.plot(history.history['val_acc'], label = 'Validation Set Acc', dashes=[6, 2])\n",
        "plt.title('Accuracy in Validation and Training')\n",
        "plt.legend()\n",
        "plt.xlabel('Epochs')\n",
        "plt.figure()\n",
        "plt.show()"
      ],
      "execution_count": 84,
      "outputs": [
        {
          "output_type": "display_data",
          "data": {
            "image/png": "[encoded data removed]",
            "text/plain": [
              "<Figure size 432x288 with 1 Axes>"
            ]
          },
          "metadata": {
            "tags": []
          }
        },
        {
          "output_type": "display_data",
          "data": {
            "text/plain": [
              "<Figure size 432x288 with 0 Axes>"
            ]
          },
          "metadata": {
            "tags": []
          }
        }
      ]
    },
    {
      "metadata": {
        "id": "42usEoMJVdiu",
        "colab_type": "text"
      },
      "cell_type": "markdown",
      "source": [
        "## Conclusiones\n",
        "\n",
        "Por cuestiones de tiempo no he podido implementar el modelo con un dataset de imágenes distinto al de clasificación de *perros* y *gatos*. Sin embargo, por lo mismo, invertí buena parte de mi día en ver cómo correr el modelo haciendo uso de la GPU de **Colaboratory** de **Google**. Lo complicado fue leer el dataset de imágenes y procesarlo exactamente igual a como se nos indicó en la práctica, ya que:\n",
        "\n",
        "* Es un dataset pesado $\\approx$ 550 MB \n",
        "* Tuve que guardarlo en mi carpeta de archivos Temporales, porque hice muchos intentos de descargarlo, descompromirlo, leer y separar las carpetas en Train, Validation y Test.\n",
        "\n",
        "Por otro lado, me impresionó mucho la mejora en el modelo tras cierta parametrización (**dropout** y **data augmentation**). Keras tiene muchísima información en Internet (Google, Medium, StackOverflow, etc) sobre cómo parametrizar. Pero la radical diferencia se observa en el primer modelo, donde obtuve un Accuracy (promedio) de $\\approx 50$% (Train y Validation) contra los modelos con el setting de los parámetros antes mencionados. Por ejemplo, el segundo modelo, con **50 épocas**,  logró un Accuracy de $\\approx 65$ % en el Validation vs $\\approx$ 80% en el Training.\n",
        "\n",
        "Para el caso del tercer modelo, donde aumenté a **90 épocas**,  logró un Accuracy de $\\approx XX$ % en el Validation vs $\\approx XX$ en el Training.\n",
        "\n",
        "Definitivamente seguiré experimentando, porque me gustaría ver cómo se comporta el modelo con los otros optimizadores de Keras (https://keras.io/optimizers/). Y probablemente lo ponga a prueba con otros datasets, para ver su capacidad de generalización.\n",
        "\n",
        "## Summary (ver Plots en todos los casos)\n",
        "\n",
        "* Modelo 1: 30 épocas, no data augmentation ni dropout. \n",
        "   * Accuracy promedio en Train $\\approx$50%\n",
        "   * Accuracy promedio en Validation $\\approx$50%\n",
        " \n",
        " \n",
        " * Modelo 2: 50 épocas, con data augmentation y dropout. \n",
        "   * Accuracy en Train $\\approx$80%\n",
        "   * Accuracy promedio en Validation $\\approx$60%\n",
        "\n",
        " * Modelo 3: 90 épocas, con data augmentation y dropout. \n",
        "   * Accuracy en Train $\\approx$85%\n",
        "   * Accuracy promedio en Validation $\\approx$70%\n",
        "   \n",
        "   "
      ]
    },
    {
      "metadata": {
        "id": "pNRz705rGElH",
        "colab_type": "code",
        "colab": {}
      },
      "cell_type": "code",
      "source": [
        "#import os, signal\n",
        "#os.kill(os.getpid(), signal.SIGKILL)"
      ],
      "execution_count": 0,
      "outputs": []
    }
  ]
}